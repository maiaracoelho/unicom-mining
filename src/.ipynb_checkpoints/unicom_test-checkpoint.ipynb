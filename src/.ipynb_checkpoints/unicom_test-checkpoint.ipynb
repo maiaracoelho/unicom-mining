{
 "metadata": {
  "name": "",
  "signature": "sha256:71ce1a2cabef8a031a726b8ad7082eb9756efaac9447b47d8c0d971d72abf91b"
 },
 "nbformat": 3,
 "nbformat_minor": 0,
 "worksheets": [
  {
   "cells": [
    {
     "cell_type": "code",
     "collapsed": false,
     "input": [
      "import csv\n",
      "filename = '/Users/chester/Downloads/20150629.csv'\n",
      "f = open(filename, 'r')\n",
      "# f.readlines()"
     ],
     "language": "python",
     "metadata": {},
     "outputs": [],
     "prompt_number": 10
    },
    {
     "cell_type": "code",
     "collapsed": false,
     "input": [
      "qtconsole"
     ],
     "language": "python",
     "metadata": {},
     "outputs": [],
     "prompt_number": 1
    },
    {
     "cell_type": "code",
     "collapsed": false,
     "input": [
      "import csv"
     ],
     "language": "python",
     "metadata": {},
     "outputs": []
    }
   ],
   "metadata": {}
  }
 ]
}